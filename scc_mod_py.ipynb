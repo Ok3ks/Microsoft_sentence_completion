{
 "cells": [
  {
   "cell_type": "code",
   "execution_count": 19,
   "metadata": {},
   "outputs": [
    {
     "name": "stderr",
     "output_type": "stream",
     "text": [
      "[nltk_data] Downloading package punkt to /Users/max/nltk_data...\n",
      "[nltk_data]   Package punkt is already up-to-date!\n"
     ]
    }
   ],
   "source": [
    "import nltk\n",
    "nltk.download('punkt')\n",
    "import numpy as np"
   ]
  },
  {
   "cell_type": "code",
   "execution_count": 20,
   "metadata": {},
   "outputs": [],
   "source": [
    "# -*- coding: utf-8 -*-\n",
    "\n",
    "\n",
    "import csv\n",
    "import random\n",
    "from wsgiref import headers\n",
    "\n",
    "from click import option\n",
    "from language_model_py import *\n",
    "from operator import itemgetter\n",
    "from nltk import word_tokenize "
   ]
  },
  {
   "cell_type": "code",
   "execution_count": 4,
   "metadata": {},
   "outputs": [],
   "source": [
    "parentdir = \"/Users/max/Desktop/NLP/Resources/sentence-completion\"\n",
    "question_s = \"/Users/max/Desktop/NLP/Resources/sentence-completion/testing_data.csv\"\n",
    "answer_s =   \"/Users/max/Desktop/NLP/Resources/sentence-completion/test_answer.csv\""
   ]
  },
  {
   "cell_type": "code",
   "execution_count": 96,
   "metadata": {},
   "outputs": [],
   "source": [
    "class question():\n",
    "    \n",
    "    def __init__(self,aline):\n",
    "        self.fields=aline\n",
    "    \n",
    "    def get_field(self,field):\n",
    "        return self.fields[question.colnames[field]]\n",
    "    \n",
    "    def add_answer(self,fields):\n",
    "        self.answer=fields[1]\n",
    "   \n",
    "    def chooseA(self):\n",
    "        return(\"a\")\n",
    "\n",
    "    def get_tokens(self):\n",
    "        return [\"__START\"]+tokenize(self.fields[question.colnames[\"question\"]])+[\"__END\"]\n",
    "\n",
    "    def get_left_context(self,window = 1, target = \"_____\"):\n",
    "        \"\"\"Get words preceeding a target word\"\"\"\n",
    "        found=-1\n",
    "        sent_tokens = self.get_tokens()\n",
    "        for i,token in enumerate(sent_tokens):\n",
    "            if token==target:\n",
    "                found=i\n",
    "                break \n",
    "                \n",
    "        if found>-1:\n",
    "            return sent_tokens[i-window:i]\n",
    "        else:\n",
    "            return []\n",
    "    \n",
    "    def get_right_context(self,window = 1, target = \"_____\"):\n",
    "        \"\"\"Get words preceeding a target word\"\"\"\n",
    "        found=-1\n",
    "        sent_tokens=self.get_tokens()\n",
    "        for i,token in enumerate(sent_tokens):\n",
    "            if token==target:\n",
    "                found=i\n",
    "                break  \n",
    "          \n",
    "        if found>-1:\n",
    "            \n",
    "            return sent_tokens[found+1:found+window+1]\n",
    "           \n",
    "        else:\n",
    "            return []\n",
    "\n",
    "    def chooserandom(self):\n",
    "        choices=[\"a\",\"b\",\"c\",\"d\",\"e\"]\n",
    "        return np.random.choice(choices)\n",
    "\n",
    "    def predict(self,method=\"chooseA\"):\n",
    "\n",
    "        choices=[\"a\",\"b\",\"c\",\"d\",\"e\"]\n",
    "        methoda = {\"method\" : \"unigram\", \"smoothing\":\"kneser_ney\" }\n",
    "        methodb = {\"method\" : \"bigram\", \"smoothing\":\"kneser_ney\" }\n",
    "        #eventually there will be lots of methods to choose from\n",
    "        #current_question = question(scc_reader.q)\n",
    "        #q = question()\n",
    "\n",
    "        headers = [str(ind) for ind,_ in question.colnames.items()]\n",
    "        #n = len(self.fields)\n",
    "        #self.choice_answers = [self.get_field(i) for i in headers[2:]]\n",
    "        #n = self.get_field('id')\n",
    "        \n",
    "\n",
    "        if method==\"chooseA\":\n",
    "            return self.chooseA()\n",
    "        else: \n",
    "\n",
    "            left_cont = self.get_left_context()\n",
    "            right_cont = self.get_right_context()\n",
    "\n",
    "            if method == \"random\": \n",
    "                choosen_option = random.randint(0,4)\n",
    "                return choices[choosen_option]\n",
    "\n",
    "            if method == \"unigram\":\n",
    "                probs = [(opt, mylm.get_prob(self.get_field(opt +')'), methodparams = methoda)) for opt in choices]     \n",
    "                return sorted(probs, key = operator.itemgetter(1), reverse = True)[0][0]\n",
    "            if method == \"bigram_l\":\n",
    "                probs = [(opt, mylm.get_prob(self.get_field(opt +')'),context = left_cont[0], methodparams = methodb))  for opt in choices]\n",
    "                return sorted(probs, key = operator.itemgetter(1), reverse = True)[0][0]\n",
    "            if method == \"bigram_r\":\n",
    "                probs = [(opt, mylm.get_prob(right_cont[0] , context = self.get_field(opt +')'), methodparams = methodb))  for opt in choices]\n",
    "                return sorted(probs, key = operator.itemgetter(1), reverse = True)[0][0]\n",
    "            if method == \"bigram\":\n",
    "                probs = [(opt,  mylm.get_prob(self.get_field(opt +')'), context = left_cont[0], methodparams = methodb) * mylm.get_prob(right_cont[0], context = self.get_field(opt +')'), methodparams = methoda))  for opt in choices]\n",
    "                return sorted(probs, key = operator.itemgetter(1), reverse = True)[0][0]\n",
    "\n",
    "# get scc_mod working then Add triagrams in language model and\n",
    "\n",
    "\n",
    "    def predict_and_score(self,method=\"chooseA\"):\n",
    "        \n",
    "        #compare prediction according to method with the correct answer\n",
    "        #return 1 or 0 accordingly\n",
    "        prediction=self.predict(method=method)\n",
    "        if prediction ==self.answer:\n",
    "            return 1\n",
    "        else:\n",
    "            return 0\n",
    "\n",
    "class scc_reader():\n",
    "    \n",
    "    def __init__(self,qs=question_s,ans=answer_s):\n",
    "        self.qs=qs\n",
    "        self.ans=ans\n",
    "        self.read_files()\n",
    "        \n",
    "    def read_files(self):\n",
    "        \n",
    "        #read in the question file\n",
    "        with open(self.qs) as instream:\n",
    "            csvreader=csv.reader(instream)\n",
    "            self.qlines=list(csvreader)\n",
    "        \n",
    "        #store the column names as a reverse index so they can be used to reference parts of the question\n",
    "        question.colnames={item:i for i,item in enumerate(self.qlines[0])}\n",
    "        #id = 0, question = 1, a = 2, b =3, c =4, d =5, e=6\n",
    "        \n",
    "        #create a question instance for each line of the file (other than heading line)\n",
    "        scc_reader.questions=[question(qline) for qline in self.qlines[1:]]\n",
    "        \n",
    "        #read in the answer file\n",
    "        with open(self.ans) as instream:\n",
    "            csvreader=csv.reader(instream)\n",
    "            alines=list(csvreader)\n",
    "            \n",
    "        #add answers to questions so predictions can be checked    \n",
    "        for q,aline in zip(self.questions,alines[1:]):\n",
    "            q.add_answer(aline)\n",
    "        \n",
    "    def get_field(self,field):\n",
    "        return [q.get_field(field) for q in scc_reader.questions] \n",
    "    \n",
    "    def predict(self,method=\"chooseA\"):\n",
    "        return [q.predict(method=method) for q in scc_reader.questions]\n",
    "    \n",
    "    def predict_and_score(self,method=\"chooseA\"):\n",
    "        scores=[q.predict_and_score(method=method) for q in scc_reader.questions]\n",
    "        return sum(scores)/len(scores)"
   ]
  },
  {
   "cell_type": "code",
   "execution_count": 98,
   "metadata": {},
   "outputs": [],
   "source": [
    "SCC = scc_reader()"
   ]
  },
  {
   "cell_type": "code",
   "execution_count": 99,
   "metadata": {},
   "outputs": [
    {
     "data": {
      "text/plain": [
       "0.17307692307692307"
      ]
     },
     "execution_count": 99,
     "metadata": {},
     "output_type": "execute_result"
    }
   ],
   "source": [
    "SCC.predict_and_score(method=\"bigram\")"
   ]
  },
  {
   "cell_type": "code",
   "execution_count": 87,
   "metadata": {},
   "outputs": [
    {
     "data": {
      "text/plain": [
       "['alone']"
      ]
     },
     "execution_count": 87,
     "metadata": {},
     "output_type": "execute_result"
    }
   ],
   "source": [
    "one_q = question(SCC.qlines[1])\n",
    "one_q.get_tokens()\n",
    "one_q.get_right_context()"
   ]
  },
  {
   "cell_type": "code",
   "execution_count": 74,
   "metadata": {},
   "outputs": [
    {
     "ename": "IndexError",
     "evalue": "list index out of range",
     "output_type": "error",
     "traceback": [
      "\u001b[0;31m---------------------------------------------------------------------------\u001b[0m",
      "\u001b[0;31mIndexError\u001b[0m                                Traceback (most recent call last)",
      "\u001b[1;32m/Users/max/Desktop/Code/Microsoft_sentence_completion/scc_mod_py.ipynb Cell 6'\u001b[0m in \u001b[0;36m<cell line: 1>\u001b[0;34m()\u001b[0m\n\u001b[0;32m----> <a href='vscode-notebook-cell:/Users/max/Desktop/Code/Microsoft_sentence_completion/scc_mod_py.ipynb#ch0000003?line=0'>1</a>\u001b[0m SCC\u001b[39m.\u001b[39;49mpredict_and_score(method \u001b[39m=\u001b[39;49m \u001b[39m\"\u001b[39;49m\u001b[39mbigram_r\u001b[39;49m\u001b[39m\"\u001b[39;49m)\n",
      "\u001b[1;32m/Users/max/Desktop/Code/Microsoft_sentence_completion/scc_mod_py.ipynb Cell 4'\u001b[0m in \u001b[0;36mscc_reader.predict_and_score\u001b[0;34m(self, method)\u001b[0m\n\u001b[1;32m    <a href='vscode-notebook-cell:/Users/max/Desktop/Code/Microsoft_sentence_completion/scc_mod_py.ipynb#ch0000002?line=141'>142</a>\u001b[0m \u001b[39mdef\u001b[39;00m \u001b[39mpredict_and_score\u001b[39m(\u001b[39mself\u001b[39m,method\u001b[39m=\u001b[39m\u001b[39m\"\u001b[39m\u001b[39mchooseA\u001b[39m\u001b[39m\"\u001b[39m):\n\u001b[0;32m--> <a href='vscode-notebook-cell:/Users/max/Desktop/Code/Microsoft_sentence_completion/scc_mod_py.ipynb#ch0000002?line=142'>143</a>\u001b[0m     scores\u001b[39m=\u001b[39m[q\u001b[39m.\u001b[39mpredict_and_score(method\u001b[39m=\u001b[39mmethod) \u001b[39mfor\u001b[39;00m q \u001b[39min\u001b[39;00m scc_reader\u001b[39m.\u001b[39mquestions]\n\u001b[1;32m    <a href='vscode-notebook-cell:/Users/max/Desktop/Code/Microsoft_sentence_completion/scc_mod_py.ipynb#ch0000002?line=143'>144</a>\u001b[0m     \u001b[39mreturn\u001b[39;00m \u001b[39msum\u001b[39m(scores)\u001b[39m/\u001b[39m\u001b[39mlen\u001b[39m(scores)\n",
      "\u001b[1;32m/Users/max/Desktop/Code/Microsoft_sentence_completion/scc_mod_py.ipynb Cell 4'\u001b[0m in \u001b[0;36m<listcomp>\u001b[0;34m(.0)\u001b[0m\n\u001b[1;32m    <a href='vscode-notebook-cell:/Users/max/Desktop/Code/Microsoft_sentence_completion/scc_mod_py.ipynb#ch0000002?line=141'>142</a>\u001b[0m \u001b[39mdef\u001b[39;00m \u001b[39mpredict_and_score\u001b[39m(\u001b[39mself\u001b[39m,method\u001b[39m=\u001b[39m\u001b[39m\"\u001b[39m\u001b[39mchooseA\u001b[39m\u001b[39m\"\u001b[39m):\n\u001b[0;32m--> <a href='vscode-notebook-cell:/Users/max/Desktop/Code/Microsoft_sentence_completion/scc_mod_py.ipynb#ch0000002?line=142'>143</a>\u001b[0m     scores\u001b[39m=\u001b[39m[q\u001b[39m.\u001b[39;49mpredict_and_score(method\u001b[39m=\u001b[39;49mmethod) \u001b[39mfor\u001b[39;00m q \u001b[39min\u001b[39;00m scc_reader\u001b[39m.\u001b[39mquestions]\n\u001b[1;32m    <a href='vscode-notebook-cell:/Users/max/Desktop/Code/Microsoft_sentence_completion/scc_mod_py.ipynb#ch0000002?line=143'>144</a>\u001b[0m     \u001b[39mreturn\u001b[39;00m \u001b[39msum\u001b[39m(scores)\u001b[39m/\u001b[39m\u001b[39mlen\u001b[39m(scores)\n",
      "\u001b[1;32m/Users/max/Desktop/Code/Microsoft_sentence_completion/scc_mod_py.ipynb Cell 4'\u001b[0m in \u001b[0;36mquestion.predict_and_score\u001b[0;34m(self, method)\u001b[0m\n\u001b[1;32m     <a href='vscode-notebook-cell:/Users/max/Desktop/Code/Microsoft_sentence_completion/scc_mod_py.ipynb#ch0000002?line=95'>96</a>\u001b[0m \u001b[39mdef\u001b[39;00m \u001b[39mpredict_and_score\u001b[39m(\u001b[39mself\u001b[39m,method\u001b[39m=\u001b[39m\u001b[39m\"\u001b[39m\u001b[39mchooseA\u001b[39m\u001b[39m\"\u001b[39m):\n\u001b[1;32m     <a href='vscode-notebook-cell:/Users/max/Desktop/Code/Microsoft_sentence_completion/scc_mod_py.ipynb#ch0000002?line=96'>97</a>\u001b[0m     \n\u001b[1;32m     <a href='vscode-notebook-cell:/Users/max/Desktop/Code/Microsoft_sentence_completion/scc_mod_py.ipynb#ch0000002?line=97'>98</a>\u001b[0m     \u001b[39m#compare prediction according to method with the correct answer\u001b[39;00m\n\u001b[1;32m     <a href='vscode-notebook-cell:/Users/max/Desktop/Code/Microsoft_sentence_completion/scc_mod_py.ipynb#ch0000002?line=98'>99</a>\u001b[0m     \u001b[39m#return 1 or 0 accordingly\u001b[39;00m\n\u001b[0;32m--> <a href='vscode-notebook-cell:/Users/max/Desktop/Code/Microsoft_sentence_completion/scc_mod_py.ipynb#ch0000002?line=99'>100</a>\u001b[0m     prediction\u001b[39m=\u001b[39m\u001b[39mself\u001b[39;49m\u001b[39m.\u001b[39;49mpredict(method\u001b[39m=\u001b[39;49mmethod)\n\u001b[1;32m    <a href='vscode-notebook-cell:/Users/max/Desktop/Code/Microsoft_sentence_completion/scc_mod_py.ipynb#ch0000002?line=100'>101</a>\u001b[0m     \u001b[39mif\u001b[39;00m prediction \u001b[39m==\u001b[39m\u001b[39mself\u001b[39m\u001b[39m.\u001b[39manswer:\n\u001b[1;32m    <a href='vscode-notebook-cell:/Users/max/Desktop/Code/Microsoft_sentence_completion/scc_mod_py.ipynb#ch0000002?line=101'>102</a>\u001b[0m         \u001b[39mreturn\u001b[39;00m \u001b[39m1\u001b[39m\n",
      "\u001b[1;32m/Users/max/Desktop/Code/Microsoft_sentence_completion/scc_mod_py.ipynb Cell 4'\u001b[0m in \u001b[0;36mquestion.predict\u001b[0;34m(self, method)\u001b[0m\n\u001b[1;32m     <a href='vscode-notebook-cell:/Users/max/Desktop/Code/Microsoft_sentence_completion/scc_mod_py.ipynb#ch0000002?line=84'>85</a>\u001b[0m \u001b[39mif\u001b[39;00m method \u001b[39m==\u001b[39m \u001b[39m\"\u001b[39m\u001b[39mbigram_r\u001b[39m\u001b[39m\"\u001b[39m:\n\u001b[1;32m     <a href='vscode-notebook-cell:/Users/max/Desktop/Code/Microsoft_sentence_completion/scc_mod_py.ipynb#ch0000002?line=85'>86</a>\u001b[0m     cont \u001b[39m=\u001b[39m \u001b[39mself\u001b[39m\u001b[39m.\u001b[39mget_right_context()\n\u001b[0;32m---> <a href='vscode-notebook-cell:/Users/max/Desktop/Code/Microsoft_sentence_completion/scc_mod_py.ipynb#ch0000002?line=86'>87</a>\u001b[0m     probs \u001b[39m=\u001b[39m [(opt, mylm\u001b[39m.\u001b[39mget_prob(cont[\u001b[39m0\u001b[39m] , context \u001b[39m=\u001b[39m \u001b[39mself\u001b[39m\u001b[39m.\u001b[39mget_field(opt \u001b[39m+\u001b[39m\u001b[39m'\u001b[39m\u001b[39m)\u001b[39m\u001b[39m'\u001b[39m), methodparams \u001b[39m=\u001b[39m methodb))  \u001b[39mfor\u001b[39;00m opt \u001b[39min\u001b[39;00m choices]\n\u001b[1;32m     <a href='vscode-notebook-cell:/Users/max/Desktop/Code/Microsoft_sentence_completion/scc_mod_py.ipynb#ch0000002?line=87'>88</a>\u001b[0m     \u001b[39mreturn\u001b[39;00m \u001b[39msorted\u001b[39m(probs, key \u001b[39m=\u001b[39m operator\u001b[39m.\u001b[39mitemgetter(\u001b[39m1\u001b[39m), reverse \u001b[39m=\u001b[39m \u001b[39mTrue\u001b[39;00m)[\u001b[39m0\u001b[39m][\u001b[39m0\u001b[39m]\n\u001b[1;32m     <a href='vscode-notebook-cell:/Users/max/Desktop/Code/Microsoft_sentence_completion/scc_mod_py.ipynb#ch0000002?line=88'>89</a>\u001b[0m \u001b[39mif\u001b[39;00m method \u001b[39m==\u001b[39m \u001b[39m\"\u001b[39m\u001b[39mbigram\u001b[39m\u001b[39m\"\u001b[39m:\n",
      "\u001b[1;32m/Users/max/Desktop/Code/Microsoft_sentence_completion/scc_mod_py.ipynb Cell 4'\u001b[0m in \u001b[0;36m<listcomp>\u001b[0;34m(.0)\u001b[0m\n\u001b[1;32m     <a href='vscode-notebook-cell:/Users/max/Desktop/Code/Microsoft_sentence_completion/scc_mod_py.ipynb#ch0000002?line=84'>85</a>\u001b[0m \u001b[39mif\u001b[39;00m method \u001b[39m==\u001b[39m \u001b[39m\"\u001b[39m\u001b[39mbigram_r\u001b[39m\u001b[39m\"\u001b[39m:\n\u001b[1;32m     <a href='vscode-notebook-cell:/Users/max/Desktop/Code/Microsoft_sentence_completion/scc_mod_py.ipynb#ch0000002?line=85'>86</a>\u001b[0m     cont \u001b[39m=\u001b[39m \u001b[39mself\u001b[39m\u001b[39m.\u001b[39mget_right_context()\n\u001b[0;32m---> <a href='vscode-notebook-cell:/Users/max/Desktop/Code/Microsoft_sentence_completion/scc_mod_py.ipynb#ch0000002?line=86'>87</a>\u001b[0m     probs \u001b[39m=\u001b[39m [(opt, mylm\u001b[39m.\u001b[39mget_prob(cont[\u001b[39m0\u001b[39;49m] , context \u001b[39m=\u001b[39m \u001b[39mself\u001b[39m\u001b[39m.\u001b[39mget_field(opt \u001b[39m+\u001b[39m\u001b[39m'\u001b[39m\u001b[39m)\u001b[39m\u001b[39m'\u001b[39m), methodparams \u001b[39m=\u001b[39m methodb))  \u001b[39mfor\u001b[39;00m opt \u001b[39min\u001b[39;00m choices]\n\u001b[1;32m     <a href='vscode-notebook-cell:/Users/max/Desktop/Code/Microsoft_sentence_completion/scc_mod_py.ipynb#ch0000002?line=87'>88</a>\u001b[0m     \u001b[39mreturn\u001b[39;00m \u001b[39msorted\u001b[39m(probs, key \u001b[39m=\u001b[39m operator\u001b[39m.\u001b[39mitemgetter(\u001b[39m1\u001b[39m), reverse \u001b[39m=\u001b[39m \u001b[39mTrue\u001b[39;00m)[\u001b[39m0\u001b[39m][\u001b[39m0\u001b[39m]\n\u001b[1;32m     <a href='vscode-notebook-cell:/Users/max/Desktop/Code/Microsoft_sentence_completion/scc_mod_py.ipynb#ch0000002?line=88'>89</a>\u001b[0m \u001b[39mif\u001b[39;00m method \u001b[39m==\u001b[39m \u001b[39m\"\u001b[39m\u001b[39mbigram\u001b[39m\u001b[39m\"\u001b[39m:\n",
      "\u001b[0;31mIndexError\u001b[0m: list index out of range"
     ]
    }
   ],
   "source": [
    "SCC.predict_and_score(method = \"bigram_r\")"
   ]
  },
  {
   "cell_type": "code",
   "execution_count": null,
   "metadata": {},
   "outputs": [],
   "source": []
  }
 ],
 "metadata": {
  "interpreter": {
   "hash": "79988c4517afee57aaca61710796edfc2f44e65e763dd9b1bbd0d2f44c7b4eaa"
  },
  "kernelspec": {
   "display_name": "Python 3.9.10 ('nlp_venv': venv)",
   "language": "python",
   "name": "python3"
  },
  "language_info": {
   "codemirror_mode": {
    "name": "ipython",
    "version": 3
   },
   "file_extension": ".py",
   "mimetype": "text/x-python",
   "name": "python",
   "nbconvert_exporter": "python",
   "pygments_lexer": "ipython3",
   "version": "3.9.10"
  },
  "orig_nbformat": 4
 },
 "nbformat": 4,
 "nbformat_minor": 2
}
